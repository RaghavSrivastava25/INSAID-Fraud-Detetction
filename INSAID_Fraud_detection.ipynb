{
  "nbformat": 4,
  "nbformat_minor": 0,
  "metadata": {
    "colab": {
      "provenance": [],
      "collapsed_sections": [],
      "authorship_tag": "ABX9TyPaMccpUXSmdIZ4+p4eC5S9",
      "include_colab_link": true
    },
    "kernelspec": {
      "name": "python3",
      "display_name": "Python 3"
    },
    "language_info": {
      "name": "python"
    },
    "gpuClass": "standard",
    "accelerator": "GPU"
  },
  "cells": [
    {
      "cell_type": "markdown",
      "metadata": {
        "id": "view-in-github",
        "colab_type": "text"
      },
      "source": [
        "<a href=\"https://colab.research.google.com/github/RaghavSrivastava25/INSAID-Fraud-Detetction/blob/main/INSAID_Fraud_detection.ipynb\" target=\"_parent\"><img src=\"https://colab.research.google.com/assets/colab-badge.svg\" alt=\"Open In Colab\"/></a>"
      ]
    },
    {
      "cell_type": "code",
      "execution_count": 59,
      "metadata": {
        "colab": {
          "base_uri": "https://localhost:8080/",
          "height": 423
        },
        "id": "rqyAOkEodBxX",
        "outputId": "5bcbfb8d-a556-4658-fa77-a2e26a8d3e4d"
      },
      "outputs": [
        {
          "output_type": "execute_result",
          "data": {
            "text/plain": [
              "   step      type    amount     nameOrig  oldbalanceOrg  newbalanceOrig  \\\n",
              "0     1   PAYMENT   9839.64  C1231006815      170136.00       160296.36   \n",
              "1     1   PAYMENT   1864.28  C1666544295       21249.00        19384.72   \n",
              "2     1  TRANSFER    181.00  C1305486145         181.00            0.00   \n",
              "3     1  CASH_OUT    181.00   C840083671         181.00            0.00   \n",
              "4     1   PAYMENT  11668.14  C2048537720       41554.00        29885.86   \n",
              "5     1   PAYMENT   7817.71    C90045638       53860.00        46042.29   \n",
              "6     1   PAYMENT   7107.77   C154988899      183195.00       176087.23   \n",
              "7     1   PAYMENT   7861.64  C1912850431      176087.23       168225.59   \n",
              "8     1   PAYMENT   4024.36  C1265012928        2671.00            0.00   \n",
              "9     1     DEBIT   5337.77   C712410124       41720.00        36382.23   \n",
              "\n",
              "      nameDest  oldbalanceDest  newbalanceDest  isFraud  isFlaggedFraud  \n",
              "0  M1979787155             0.0            0.00      0.0             0.0  \n",
              "1  M2044282225             0.0            0.00      0.0             0.0  \n",
              "2   C553264065             0.0            0.00      1.0             0.0  \n",
              "3    C38997010         21182.0            0.00      1.0             0.0  \n",
              "4  M1230701703             0.0            0.00      0.0             0.0  \n",
              "5   M573487274             0.0            0.00      0.0             0.0  \n",
              "6   M408069119             0.0            0.00      0.0             0.0  \n",
              "7   M633326333             0.0            0.00      0.0             0.0  \n",
              "8  M1176932104             0.0            0.00      0.0             0.0  \n",
              "9   C195600860         41898.0        40348.79      0.0             0.0  "
            ],
            "text/html": [
              "\n",
              "  <div id=\"df-1abfcf27-a27e-42d4-8073-17ce68e27240\">\n",
              "    <div class=\"colab-df-container\">\n",
              "      <div>\n",
              "<style scoped>\n",
              "    .dataframe tbody tr th:only-of-type {\n",
              "        vertical-align: middle;\n",
              "    }\n",
              "\n",
              "    .dataframe tbody tr th {\n",
              "        vertical-align: top;\n",
              "    }\n",
              "\n",
              "    .dataframe thead th {\n",
              "        text-align: right;\n",
              "    }\n",
              "</style>\n",
              "<table border=\"1\" class=\"dataframe\">\n",
              "  <thead>\n",
              "    <tr style=\"text-align: right;\">\n",
              "      <th></th>\n",
              "      <th>step</th>\n",
              "      <th>type</th>\n",
              "      <th>amount</th>\n",
              "      <th>nameOrig</th>\n",
              "      <th>oldbalanceOrg</th>\n",
              "      <th>newbalanceOrig</th>\n",
              "      <th>nameDest</th>\n",
              "      <th>oldbalanceDest</th>\n",
              "      <th>newbalanceDest</th>\n",
              "      <th>isFraud</th>\n",
              "      <th>isFlaggedFraud</th>\n",
              "    </tr>\n",
              "  </thead>\n",
              "  <tbody>\n",
              "    <tr>\n",
              "      <th>0</th>\n",
              "      <td>1</td>\n",
              "      <td>PAYMENT</td>\n",
              "      <td>9839.64</td>\n",
              "      <td>C1231006815</td>\n",
              "      <td>170136.00</td>\n",
              "      <td>160296.36</td>\n",
              "      <td>M1979787155</td>\n",
              "      <td>0.0</td>\n",
              "      <td>0.00</td>\n",
              "      <td>0.0</td>\n",
              "      <td>0.0</td>\n",
              "    </tr>\n",
              "    <tr>\n",
              "      <th>1</th>\n",
              "      <td>1</td>\n",
              "      <td>PAYMENT</td>\n",
              "      <td>1864.28</td>\n",
              "      <td>C1666544295</td>\n",
              "      <td>21249.00</td>\n",
              "      <td>19384.72</td>\n",
              "      <td>M2044282225</td>\n",
              "      <td>0.0</td>\n",
              "      <td>0.00</td>\n",
              "      <td>0.0</td>\n",
              "      <td>0.0</td>\n",
              "    </tr>\n",
              "    <tr>\n",
              "      <th>2</th>\n",
              "      <td>1</td>\n",
              "      <td>TRANSFER</td>\n",
              "      <td>181.00</td>\n",
              "      <td>C1305486145</td>\n",
              "      <td>181.00</td>\n",
              "      <td>0.00</td>\n",
              "      <td>C553264065</td>\n",
              "      <td>0.0</td>\n",
              "      <td>0.00</td>\n",
              "      <td>1.0</td>\n",
              "      <td>0.0</td>\n",
              "    </tr>\n",
              "    <tr>\n",
              "      <th>3</th>\n",
              "      <td>1</td>\n",
              "      <td>CASH_OUT</td>\n",
              "      <td>181.00</td>\n",
              "      <td>C840083671</td>\n",
              "      <td>181.00</td>\n",
              "      <td>0.00</td>\n",
              "      <td>C38997010</td>\n",
              "      <td>21182.0</td>\n",
              "      <td>0.00</td>\n",
              "      <td>1.0</td>\n",
              "      <td>0.0</td>\n",
              "    </tr>\n",
              "    <tr>\n",
              "      <th>4</th>\n",
              "      <td>1</td>\n",
              "      <td>PAYMENT</td>\n",
              "      <td>11668.14</td>\n",
              "      <td>C2048537720</td>\n",
              "      <td>41554.00</td>\n",
              "      <td>29885.86</td>\n",
              "      <td>M1230701703</td>\n",
              "      <td>0.0</td>\n",
              "      <td>0.00</td>\n",
              "      <td>0.0</td>\n",
              "      <td>0.0</td>\n",
              "    </tr>\n",
              "    <tr>\n",
              "      <th>5</th>\n",
              "      <td>1</td>\n",
              "      <td>PAYMENT</td>\n",
              "      <td>7817.71</td>\n",
              "      <td>C90045638</td>\n",
              "      <td>53860.00</td>\n",
              "      <td>46042.29</td>\n",
              "      <td>M573487274</td>\n",
              "      <td>0.0</td>\n",
              "      <td>0.00</td>\n",
              "      <td>0.0</td>\n",
              "      <td>0.0</td>\n",
              "    </tr>\n",
              "    <tr>\n",
              "      <th>6</th>\n",
              "      <td>1</td>\n",
              "      <td>PAYMENT</td>\n",
              "      <td>7107.77</td>\n",
              "      <td>C154988899</td>\n",
              "      <td>183195.00</td>\n",
              "      <td>176087.23</td>\n",
              "      <td>M408069119</td>\n",
              "      <td>0.0</td>\n",
              "      <td>0.00</td>\n",
              "      <td>0.0</td>\n",
              "      <td>0.0</td>\n",
              "    </tr>\n",
              "    <tr>\n",
              "      <th>7</th>\n",
              "      <td>1</td>\n",
              "      <td>PAYMENT</td>\n",
              "      <td>7861.64</td>\n",
              "      <td>C1912850431</td>\n",
              "      <td>176087.23</td>\n",
              "      <td>168225.59</td>\n",
              "      <td>M633326333</td>\n",
              "      <td>0.0</td>\n",
              "      <td>0.00</td>\n",
              "      <td>0.0</td>\n",
              "      <td>0.0</td>\n",
              "    </tr>\n",
              "    <tr>\n",
              "      <th>8</th>\n",
              "      <td>1</td>\n",
              "      <td>PAYMENT</td>\n",
              "      <td>4024.36</td>\n",
              "      <td>C1265012928</td>\n",
              "      <td>2671.00</td>\n",
              "      <td>0.00</td>\n",
              "      <td>M1176932104</td>\n",
              "      <td>0.0</td>\n",
              "      <td>0.00</td>\n",
              "      <td>0.0</td>\n",
              "      <td>0.0</td>\n",
              "    </tr>\n",
              "    <tr>\n",
              "      <th>9</th>\n",
              "      <td>1</td>\n",
              "      <td>DEBIT</td>\n",
              "      <td>5337.77</td>\n",
              "      <td>C712410124</td>\n",
              "      <td>41720.00</td>\n",
              "      <td>36382.23</td>\n",
              "      <td>C195600860</td>\n",
              "      <td>41898.0</td>\n",
              "      <td>40348.79</td>\n",
              "      <td>0.0</td>\n",
              "      <td>0.0</td>\n",
              "    </tr>\n",
              "  </tbody>\n",
              "</table>\n",
              "</div>\n",
              "      <button class=\"colab-df-convert\" onclick=\"convertToInteractive('df-1abfcf27-a27e-42d4-8073-17ce68e27240')\"\n",
              "              title=\"Convert this dataframe to an interactive table.\"\n",
              "              style=\"display:none;\">\n",
              "        \n",
              "  <svg xmlns=\"http://www.w3.org/2000/svg\" height=\"24px\"viewBox=\"0 0 24 24\"\n",
              "       width=\"24px\">\n",
              "    <path d=\"M0 0h24v24H0V0z\" fill=\"none\"/>\n",
              "    <path d=\"M18.56 5.44l.94 2.06.94-2.06 2.06-.94-2.06-.94-.94-2.06-.94 2.06-2.06.94zm-11 1L8.5 8.5l.94-2.06 2.06-.94-2.06-.94L8.5 2.5l-.94 2.06-2.06.94zm10 10l.94 2.06.94-2.06 2.06-.94-2.06-.94-.94-2.06-.94 2.06-2.06.94z\"/><path d=\"M17.41 7.96l-1.37-1.37c-.4-.4-.92-.59-1.43-.59-.52 0-1.04.2-1.43.59L10.3 9.45l-7.72 7.72c-.78.78-.78 2.05 0 2.83L4 21.41c.39.39.9.59 1.41.59.51 0 1.02-.2 1.41-.59l7.78-7.78 2.81-2.81c.8-.78.8-2.07 0-2.86zM5.41 20L4 18.59l7.72-7.72 1.47 1.35L5.41 20z\"/>\n",
              "  </svg>\n",
              "      </button>\n",
              "      \n",
              "  <style>\n",
              "    .colab-df-container {\n",
              "      display:flex;\n",
              "      flex-wrap:wrap;\n",
              "      gap: 12px;\n",
              "    }\n",
              "\n",
              "    .colab-df-convert {\n",
              "      background-color: #E8F0FE;\n",
              "      border: none;\n",
              "      border-radius: 50%;\n",
              "      cursor: pointer;\n",
              "      display: none;\n",
              "      fill: #1967D2;\n",
              "      height: 32px;\n",
              "      padding: 0 0 0 0;\n",
              "      width: 32px;\n",
              "    }\n",
              "\n",
              "    .colab-df-convert:hover {\n",
              "      background-color: #E2EBFA;\n",
              "      box-shadow: 0px 1px 2px rgba(60, 64, 67, 0.3), 0px 1px 3px 1px rgba(60, 64, 67, 0.15);\n",
              "      fill: #174EA6;\n",
              "    }\n",
              "\n",
              "    [theme=dark] .colab-df-convert {\n",
              "      background-color: #3B4455;\n",
              "      fill: #D2E3FC;\n",
              "    }\n",
              "\n",
              "    [theme=dark] .colab-df-convert:hover {\n",
              "      background-color: #434B5C;\n",
              "      box-shadow: 0px 1px 3px 1px rgba(0, 0, 0, 0.15);\n",
              "      filter: drop-shadow(0px 1px 2px rgba(0, 0, 0, 0.3));\n",
              "      fill: #FFFFFF;\n",
              "    }\n",
              "  </style>\n",
              "\n",
              "      <script>\n",
              "        const buttonEl =\n",
              "          document.querySelector('#df-1abfcf27-a27e-42d4-8073-17ce68e27240 button.colab-df-convert');\n",
              "        buttonEl.style.display =\n",
              "          google.colab.kernel.accessAllowed ? 'block' : 'none';\n",
              "\n",
              "        async function convertToInteractive(key) {\n",
              "          const element = document.querySelector('#df-1abfcf27-a27e-42d4-8073-17ce68e27240');\n",
              "          const dataTable =\n",
              "            await google.colab.kernel.invokeFunction('convertToInteractive',\n",
              "                                                     [key], {});\n",
              "          if (!dataTable) return;\n",
              "\n",
              "          const docLinkHtml = 'Like what you see? Visit the ' +\n",
              "            '<a target=\"_blank\" href=https://colab.research.google.com/notebooks/data_table.ipynb>data table notebook</a>'\n",
              "            + ' to learn more about interactive tables.';\n",
              "          element.innerHTML = '';\n",
              "          dataTable['output_type'] = 'display_data';\n",
              "          await google.colab.output.renderOutput(dataTable, element);\n",
              "          const docLink = document.createElement('div');\n",
              "          docLink.innerHTML = docLinkHtml;\n",
              "          element.appendChild(docLink);\n",
              "        }\n",
              "      </script>\n",
              "    </div>\n",
              "  </div>\n",
              "  "
            ]
          },
          "metadata": {},
          "execution_count": 59
        }
      ],
      "source": [
        "#import pandas library\n",
        "import pandas as pd\n",
        "#converting the csv into a pandas dataframe and reading it \n",
        "data = pd.read_csv('Fraud.csv')\n",
        "#printing the first 10 instances of the data\n",
        "data.head(10)"
      ]
    },
    {
      "cell_type": "code",
      "source": [
        "#information about the above declared pandas dataframe 'data'\n",
        "data.info()"
      ],
      "metadata": {
        "colab": {
          "base_uri": "https://localhost:8080/"
        },
        "id": "KGg54mHeeDFV",
        "outputId": "4a58fb44-ef4b-4ae8-a27e-587d4e9c9bef"
      },
      "execution_count": 60,
      "outputs": [
        {
          "output_type": "stream",
          "name": "stdout",
          "text": [
            "<class 'pandas.core.frame.DataFrame'>\n",
            "RangeIndex: 3236623 entries, 0 to 3236622\n",
            "Data columns (total 11 columns):\n",
            " #   Column          Dtype  \n",
            "---  ------          -----  \n",
            " 0   step            int64  \n",
            " 1   type            object \n",
            " 2   amount          float64\n",
            " 3   nameOrig        object \n",
            " 4   oldbalanceOrg   float64\n",
            " 5   newbalanceOrig  float64\n",
            " 6   nameDest        object \n",
            " 7   oldbalanceDest  float64\n",
            " 8   newbalanceDest  float64\n",
            " 9   isFraud         float64\n",
            " 10  isFlaggedFraud  float64\n",
            "dtypes: float64(7), int64(1), object(3)\n",
            "memory usage: 271.6+ MB\n"
          ]
        }
      ]
    },
    {
      "cell_type": "code",
      "source": [
        "#Description of the data in the DataFrame\n",
        "#This includes mean, count, std deviation, percentiles, and min-max values of all the features\n",
        "data.describe()"
      ],
      "metadata": {
        "colab": {
          "base_uri": "https://localhost:8080/",
          "height": 361
        },
        "id": "JnQQO4XpeRJu",
        "outputId": "724d6b31-3096-41b0-fb97-7ea48de0135c"
      },
      "execution_count": 61,
      "outputs": [
        {
          "output_type": "execute_result",
          "data": {
            "text/plain": [
              "               step        amount  oldbalanceOrg  newbalanceOrig  \\\n",
              "count  3.236623e+06  3.236623e+06   3.236623e+06    3.236623e+06   \n",
              "mean   1.325363e+02  1.578128e+05   8.422132e+05    8.636915e+05   \n",
              "std    7.919490e+01  2.688958e+05   2.907221e+06    2.943629e+06   \n",
              "min    1.000000e+00  0.000000e+00   0.000000e+00    0.000000e+00   \n",
              "25%    4.000000e+01  1.259114e+04   0.000000e+00    0.000000e+00   \n",
              "50%    1.570000e+02  7.590962e+04   1.458500e+04    0.000000e+00   \n",
              "75%    2.020000e+02  2.110998e+05   1.125269e+05    1.519030e+05   \n",
              "max    2.500000e+02  1.000000e+07   3.893942e+07    3.894623e+07   \n",
              "\n",
              "       oldbalanceDest  newbalanceDest       isFraud  isFlaggedFraud  \n",
              "count    3.236622e+06    3.236622e+06  3.236622e+06    3.236622e+06  \n",
              "mean     9.948082e+05    1.101041e+06  8.746774e-04    3.089641e-07  \n",
              "std      2.301515e+06    2.383357e+06  2.956201e-02    5.558454e-04  \n",
              "min      0.000000e+00    0.000000e+00  0.000000e+00    0.000000e+00  \n",
              "25%      0.000000e+00    0.000000e+00  0.000000e+00    0.000000e+00  \n",
              "50%      1.368836e+05    2.226277e+05  0.000000e+00    0.000000e+00  \n",
              "75%      9.433840e+05    1.125753e+06  0.000000e+00    0.000000e+00  \n",
              "max      4.265577e+07    4.285430e+07  1.000000e+00    1.000000e+00  "
            ],
            "text/html": [
              "\n",
              "  <div id=\"df-8837a434-ec39-4257-8b22-0ec6e0c45643\">\n",
              "    <div class=\"colab-df-container\">\n",
              "      <div>\n",
              "<style scoped>\n",
              "    .dataframe tbody tr th:only-of-type {\n",
              "        vertical-align: middle;\n",
              "    }\n",
              "\n",
              "    .dataframe tbody tr th {\n",
              "        vertical-align: top;\n",
              "    }\n",
              "\n",
              "    .dataframe thead th {\n",
              "        text-align: right;\n",
              "    }\n",
              "</style>\n",
              "<table border=\"1\" class=\"dataframe\">\n",
              "  <thead>\n",
              "    <tr style=\"text-align: right;\">\n",
              "      <th></th>\n",
              "      <th>step</th>\n",
              "      <th>amount</th>\n",
              "      <th>oldbalanceOrg</th>\n",
              "      <th>newbalanceOrig</th>\n",
              "      <th>oldbalanceDest</th>\n",
              "      <th>newbalanceDest</th>\n",
              "      <th>isFraud</th>\n",
              "      <th>isFlaggedFraud</th>\n",
              "    </tr>\n",
              "  </thead>\n",
              "  <tbody>\n",
              "    <tr>\n",
              "      <th>count</th>\n",
              "      <td>3.236623e+06</td>\n",
              "      <td>3.236623e+06</td>\n",
              "      <td>3.236623e+06</td>\n",
              "      <td>3.236623e+06</td>\n",
              "      <td>3.236622e+06</td>\n",
              "      <td>3.236622e+06</td>\n",
              "      <td>3.236622e+06</td>\n",
              "      <td>3.236622e+06</td>\n",
              "    </tr>\n",
              "    <tr>\n",
              "      <th>mean</th>\n",
              "      <td>1.325363e+02</td>\n",
              "      <td>1.578128e+05</td>\n",
              "      <td>8.422132e+05</td>\n",
              "      <td>8.636915e+05</td>\n",
              "      <td>9.948082e+05</td>\n",
              "      <td>1.101041e+06</td>\n",
              "      <td>8.746774e-04</td>\n",
              "      <td>3.089641e-07</td>\n",
              "    </tr>\n",
              "    <tr>\n",
              "      <th>std</th>\n",
              "      <td>7.919490e+01</td>\n",
              "      <td>2.688958e+05</td>\n",
              "      <td>2.907221e+06</td>\n",
              "      <td>2.943629e+06</td>\n",
              "      <td>2.301515e+06</td>\n",
              "      <td>2.383357e+06</td>\n",
              "      <td>2.956201e-02</td>\n",
              "      <td>5.558454e-04</td>\n",
              "    </tr>\n",
              "    <tr>\n",
              "      <th>min</th>\n",
              "      <td>1.000000e+00</td>\n",
              "      <td>0.000000e+00</td>\n",
              "      <td>0.000000e+00</td>\n",
              "      <td>0.000000e+00</td>\n",
              "      <td>0.000000e+00</td>\n",
              "      <td>0.000000e+00</td>\n",
              "      <td>0.000000e+00</td>\n",
              "      <td>0.000000e+00</td>\n",
              "    </tr>\n",
              "    <tr>\n",
              "      <th>25%</th>\n",
              "      <td>4.000000e+01</td>\n",
              "      <td>1.259114e+04</td>\n",
              "      <td>0.000000e+00</td>\n",
              "      <td>0.000000e+00</td>\n",
              "      <td>0.000000e+00</td>\n",
              "      <td>0.000000e+00</td>\n",
              "      <td>0.000000e+00</td>\n",
              "      <td>0.000000e+00</td>\n",
              "    </tr>\n",
              "    <tr>\n",
              "      <th>50%</th>\n",
              "      <td>1.570000e+02</td>\n",
              "      <td>7.590962e+04</td>\n",
              "      <td>1.458500e+04</td>\n",
              "      <td>0.000000e+00</td>\n",
              "      <td>1.368836e+05</td>\n",
              "      <td>2.226277e+05</td>\n",
              "      <td>0.000000e+00</td>\n",
              "      <td>0.000000e+00</td>\n",
              "    </tr>\n",
              "    <tr>\n",
              "      <th>75%</th>\n",
              "      <td>2.020000e+02</td>\n",
              "      <td>2.110998e+05</td>\n",
              "      <td>1.125269e+05</td>\n",
              "      <td>1.519030e+05</td>\n",
              "      <td>9.433840e+05</td>\n",
              "      <td>1.125753e+06</td>\n",
              "      <td>0.000000e+00</td>\n",
              "      <td>0.000000e+00</td>\n",
              "    </tr>\n",
              "    <tr>\n",
              "      <th>max</th>\n",
              "      <td>2.500000e+02</td>\n",
              "      <td>1.000000e+07</td>\n",
              "      <td>3.893942e+07</td>\n",
              "      <td>3.894623e+07</td>\n",
              "      <td>4.265577e+07</td>\n",
              "      <td>4.285430e+07</td>\n",
              "      <td>1.000000e+00</td>\n",
              "      <td>1.000000e+00</td>\n",
              "    </tr>\n",
              "  </tbody>\n",
              "</table>\n",
              "</div>\n",
              "      <button class=\"colab-df-convert\" onclick=\"convertToInteractive('df-8837a434-ec39-4257-8b22-0ec6e0c45643')\"\n",
              "              title=\"Convert this dataframe to an interactive table.\"\n",
              "              style=\"display:none;\">\n",
              "        \n",
              "  <svg xmlns=\"http://www.w3.org/2000/svg\" height=\"24px\"viewBox=\"0 0 24 24\"\n",
              "       width=\"24px\">\n",
              "    <path d=\"M0 0h24v24H0V0z\" fill=\"none\"/>\n",
              "    <path d=\"M18.56 5.44l.94 2.06.94-2.06 2.06-.94-2.06-.94-.94-2.06-.94 2.06-2.06.94zm-11 1L8.5 8.5l.94-2.06 2.06-.94-2.06-.94L8.5 2.5l-.94 2.06-2.06.94zm10 10l.94 2.06.94-2.06 2.06-.94-2.06-.94-.94-2.06-.94 2.06-2.06.94z\"/><path d=\"M17.41 7.96l-1.37-1.37c-.4-.4-.92-.59-1.43-.59-.52 0-1.04.2-1.43.59L10.3 9.45l-7.72 7.72c-.78.78-.78 2.05 0 2.83L4 21.41c.39.39.9.59 1.41.59.51 0 1.02-.2 1.41-.59l7.78-7.78 2.81-2.81c.8-.78.8-2.07 0-2.86zM5.41 20L4 18.59l7.72-7.72 1.47 1.35L5.41 20z\"/>\n",
              "  </svg>\n",
              "      </button>\n",
              "      \n",
              "  <style>\n",
              "    .colab-df-container {\n",
              "      display:flex;\n",
              "      flex-wrap:wrap;\n",
              "      gap: 12px;\n",
              "    }\n",
              "\n",
              "    .colab-df-convert {\n",
              "      background-color: #E8F0FE;\n",
              "      border: none;\n",
              "      border-radius: 50%;\n",
              "      cursor: pointer;\n",
              "      display: none;\n",
              "      fill: #1967D2;\n",
              "      height: 32px;\n",
              "      padding: 0 0 0 0;\n",
              "      width: 32px;\n",
              "    }\n",
              "\n",
              "    .colab-df-convert:hover {\n",
              "      background-color: #E2EBFA;\n",
              "      box-shadow: 0px 1px 2px rgba(60, 64, 67, 0.3), 0px 1px 3px 1px rgba(60, 64, 67, 0.15);\n",
              "      fill: #174EA6;\n",
              "    }\n",
              "\n",
              "    [theme=dark] .colab-df-convert {\n",
              "      background-color: #3B4455;\n",
              "      fill: #D2E3FC;\n",
              "    }\n",
              "\n",
              "    [theme=dark] .colab-df-convert:hover {\n",
              "      background-color: #434B5C;\n",
              "      box-shadow: 0px 1px 3px 1px rgba(0, 0, 0, 0.15);\n",
              "      filter: drop-shadow(0px 1px 2px rgba(0, 0, 0, 0.3));\n",
              "      fill: #FFFFFF;\n",
              "    }\n",
              "  </style>\n",
              "\n",
              "      <script>\n",
              "        const buttonEl =\n",
              "          document.querySelector('#df-8837a434-ec39-4257-8b22-0ec6e0c45643 button.colab-df-convert');\n",
              "        buttonEl.style.display =\n",
              "          google.colab.kernel.accessAllowed ? 'block' : 'none';\n",
              "\n",
              "        async function convertToInteractive(key) {\n",
              "          const element = document.querySelector('#df-8837a434-ec39-4257-8b22-0ec6e0c45643');\n",
              "          const dataTable =\n",
              "            await google.colab.kernel.invokeFunction('convertToInteractive',\n",
              "                                                     [key], {});\n",
              "          if (!dataTable) return;\n",
              "\n",
              "          const docLinkHtml = 'Like what you see? Visit the ' +\n",
              "            '<a target=\"_blank\" href=https://colab.research.google.com/notebooks/data_table.ipynb>data table notebook</a>'\n",
              "            + ' to learn more about interactive tables.';\n",
              "          element.innerHTML = '';\n",
              "          dataTable['output_type'] = 'display_data';\n",
              "          await google.colab.output.renderOutput(dataTable, element);\n",
              "          const docLink = document.createElement('div');\n",
              "          docLink.innerHTML = docLinkHtml;\n",
              "          element.appendChild(docLink);\n",
              "        }\n",
              "      </script>\n",
              "    </div>\n",
              "  </div>\n",
              "  "
            ]
          },
          "metadata": {},
          "execution_count": 61
        }
      ]
    },
    {
      "cell_type": "code",
      "source": [
        "#sum of all the null values in each column in the dataframe\n",
        "data.isnull().sum()"
      ],
      "metadata": {
        "colab": {
          "base_uri": "https://localhost:8080/"
        },
        "id": "JNgp4fW_eUuJ",
        "outputId": "691ab3f8-8956-48c4-d0d1-4f907c9f0718"
      },
      "execution_count": 62,
      "outputs": [
        {
          "output_type": "execute_result",
          "data": {
            "text/plain": [
              "step              0\n",
              "type              0\n",
              "amount            0\n",
              "nameOrig          0\n",
              "oldbalanceOrg     0\n",
              "newbalanceOrig    0\n",
              "nameDest          1\n",
              "oldbalanceDest    1\n",
              "newbalanceDest    1\n",
              "isFraud           1\n",
              "isFlaggedFraud    1\n",
              "dtype: int64"
            ]
          },
          "metadata": {},
          "execution_count": 62
        }
      ]
    },
    {
      "cell_type": "code",
      "source": [
        "#the pairwise correlation of all columns in the dataframe\n",
        "data.corr()"
      ],
      "metadata": {
        "colab": {
          "base_uri": "https://localhost:8080/",
          "height": 361
        },
        "id": "WPdFax8keYPZ",
        "outputId": "2fe3e50b-0875-49fd-d0b2-6c88408ef812"
      },
      "execution_count": 63,
      "outputs": [
        {
          "output_type": "execute_result",
          "data": {
            "text/plain": [
              "                    step    amount  oldbalanceOrg  newbalanceOrig  \\\n",
              "step            1.000000 -0.008079      -0.008528       -0.008131   \n",
              "amount         -0.008079  1.000000       0.005926        0.001319   \n",
              "oldbalanceOrg  -0.008528  0.005926       1.000000        0.999084   \n",
              "newbalanceOrig -0.008131  0.001319       0.999084        1.000000   \n",
              "oldbalanceDest  0.003314  0.216177       0.093500        0.095504   \n",
              "newbalanceDest -0.006499  0.312157       0.064015        0.063904   \n",
              "isFraud        -0.003262  0.126693       0.005408       -0.007981   \n",
              "isFlaggedFraud  0.000558  0.009914       0.000786        0.000772   \n",
              "\n",
              "                oldbalanceDest  newbalanceDest   isFraud  isFlaggedFraud  \n",
              "step                  0.003314       -0.006499 -0.003262        0.000558  \n",
              "amount                0.216177        0.312157  0.126693        0.009914  \n",
              "oldbalanceOrg         0.093500        0.064015  0.005408        0.000786  \n",
              "newbalanceOrig        0.095504        0.063904 -0.007981        0.000772  \n",
              "oldbalanceDest        1.000000        0.986616 -0.006690       -0.000240  \n",
              "newbalanceDest        0.986616        1.000000  0.000498       -0.000257  \n",
              "isFraud              -0.006690        0.000498  1.000000        0.018786  \n",
              "isFlaggedFraud       -0.000240       -0.000257  0.018786        1.000000  "
            ],
            "text/html": [
              "\n",
              "  <div id=\"df-cf05c3be-fb56-4354-9b73-300dadf30d1e\">\n",
              "    <div class=\"colab-df-container\">\n",
              "      <div>\n",
              "<style scoped>\n",
              "    .dataframe tbody tr th:only-of-type {\n",
              "        vertical-align: middle;\n",
              "    }\n",
              "\n",
              "    .dataframe tbody tr th {\n",
              "        vertical-align: top;\n",
              "    }\n",
              "\n",
              "    .dataframe thead th {\n",
              "        text-align: right;\n",
              "    }\n",
              "</style>\n",
              "<table border=\"1\" class=\"dataframe\">\n",
              "  <thead>\n",
              "    <tr style=\"text-align: right;\">\n",
              "      <th></th>\n",
              "      <th>step</th>\n",
              "      <th>amount</th>\n",
              "      <th>oldbalanceOrg</th>\n",
              "      <th>newbalanceOrig</th>\n",
              "      <th>oldbalanceDest</th>\n",
              "      <th>newbalanceDest</th>\n",
              "      <th>isFraud</th>\n",
              "      <th>isFlaggedFraud</th>\n",
              "    </tr>\n",
              "  </thead>\n",
              "  <tbody>\n",
              "    <tr>\n",
              "      <th>step</th>\n",
              "      <td>1.000000</td>\n",
              "      <td>-0.008079</td>\n",
              "      <td>-0.008528</td>\n",
              "      <td>-0.008131</td>\n",
              "      <td>0.003314</td>\n",
              "      <td>-0.006499</td>\n",
              "      <td>-0.003262</td>\n",
              "      <td>0.000558</td>\n",
              "    </tr>\n",
              "    <tr>\n",
              "      <th>amount</th>\n",
              "      <td>-0.008079</td>\n",
              "      <td>1.000000</td>\n",
              "      <td>0.005926</td>\n",
              "      <td>0.001319</td>\n",
              "      <td>0.216177</td>\n",
              "      <td>0.312157</td>\n",
              "      <td>0.126693</td>\n",
              "      <td>0.009914</td>\n",
              "    </tr>\n",
              "    <tr>\n",
              "      <th>oldbalanceOrg</th>\n",
              "      <td>-0.008528</td>\n",
              "      <td>0.005926</td>\n",
              "      <td>1.000000</td>\n",
              "      <td>0.999084</td>\n",
              "      <td>0.093500</td>\n",
              "      <td>0.064015</td>\n",
              "      <td>0.005408</td>\n",
              "      <td>0.000786</td>\n",
              "    </tr>\n",
              "    <tr>\n",
              "      <th>newbalanceOrig</th>\n",
              "      <td>-0.008131</td>\n",
              "      <td>0.001319</td>\n",
              "      <td>0.999084</td>\n",
              "      <td>1.000000</td>\n",
              "      <td>0.095504</td>\n",
              "      <td>0.063904</td>\n",
              "      <td>-0.007981</td>\n",
              "      <td>0.000772</td>\n",
              "    </tr>\n",
              "    <tr>\n",
              "      <th>oldbalanceDest</th>\n",
              "      <td>0.003314</td>\n",
              "      <td>0.216177</td>\n",
              "      <td>0.093500</td>\n",
              "      <td>0.095504</td>\n",
              "      <td>1.000000</td>\n",
              "      <td>0.986616</td>\n",
              "      <td>-0.006690</td>\n",
              "      <td>-0.000240</td>\n",
              "    </tr>\n",
              "    <tr>\n",
              "      <th>newbalanceDest</th>\n",
              "      <td>-0.006499</td>\n",
              "      <td>0.312157</td>\n",
              "      <td>0.064015</td>\n",
              "      <td>0.063904</td>\n",
              "      <td>0.986616</td>\n",
              "      <td>1.000000</td>\n",
              "      <td>0.000498</td>\n",
              "      <td>-0.000257</td>\n",
              "    </tr>\n",
              "    <tr>\n",
              "      <th>isFraud</th>\n",
              "      <td>-0.003262</td>\n",
              "      <td>0.126693</td>\n",
              "      <td>0.005408</td>\n",
              "      <td>-0.007981</td>\n",
              "      <td>-0.006690</td>\n",
              "      <td>0.000498</td>\n",
              "      <td>1.000000</td>\n",
              "      <td>0.018786</td>\n",
              "    </tr>\n",
              "    <tr>\n",
              "      <th>isFlaggedFraud</th>\n",
              "      <td>0.000558</td>\n",
              "      <td>0.009914</td>\n",
              "      <td>0.000786</td>\n",
              "      <td>0.000772</td>\n",
              "      <td>-0.000240</td>\n",
              "      <td>-0.000257</td>\n",
              "      <td>0.018786</td>\n",
              "      <td>1.000000</td>\n",
              "    </tr>\n",
              "  </tbody>\n",
              "</table>\n",
              "</div>\n",
              "      <button class=\"colab-df-convert\" onclick=\"convertToInteractive('df-cf05c3be-fb56-4354-9b73-300dadf30d1e')\"\n",
              "              title=\"Convert this dataframe to an interactive table.\"\n",
              "              style=\"display:none;\">\n",
              "        \n",
              "  <svg xmlns=\"http://www.w3.org/2000/svg\" height=\"24px\"viewBox=\"0 0 24 24\"\n",
              "       width=\"24px\">\n",
              "    <path d=\"M0 0h24v24H0V0z\" fill=\"none\"/>\n",
              "    <path d=\"M18.56 5.44l.94 2.06.94-2.06 2.06-.94-2.06-.94-.94-2.06-.94 2.06-2.06.94zm-11 1L8.5 8.5l.94-2.06 2.06-.94-2.06-.94L8.5 2.5l-.94 2.06-2.06.94zm10 10l.94 2.06.94-2.06 2.06-.94-2.06-.94-.94-2.06-.94 2.06-2.06.94z\"/><path d=\"M17.41 7.96l-1.37-1.37c-.4-.4-.92-.59-1.43-.59-.52 0-1.04.2-1.43.59L10.3 9.45l-7.72 7.72c-.78.78-.78 2.05 0 2.83L4 21.41c.39.39.9.59 1.41.59.51 0 1.02-.2 1.41-.59l7.78-7.78 2.81-2.81c.8-.78.8-2.07 0-2.86zM5.41 20L4 18.59l7.72-7.72 1.47 1.35L5.41 20z\"/>\n",
              "  </svg>\n",
              "      </button>\n",
              "      \n",
              "  <style>\n",
              "    .colab-df-container {\n",
              "      display:flex;\n",
              "      flex-wrap:wrap;\n",
              "      gap: 12px;\n",
              "    }\n",
              "\n",
              "    .colab-df-convert {\n",
              "      background-color: #E8F0FE;\n",
              "      border: none;\n",
              "      border-radius: 50%;\n",
              "      cursor: pointer;\n",
              "      display: none;\n",
              "      fill: #1967D2;\n",
              "      height: 32px;\n",
              "      padding: 0 0 0 0;\n",
              "      width: 32px;\n",
              "    }\n",
              "\n",
              "    .colab-df-convert:hover {\n",
              "      background-color: #E2EBFA;\n",
              "      box-shadow: 0px 1px 2px rgba(60, 64, 67, 0.3), 0px 1px 3px 1px rgba(60, 64, 67, 0.15);\n",
              "      fill: #174EA6;\n",
              "    }\n",
              "\n",
              "    [theme=dark] .colab-df-convert {\n",
              "      background-color: #3B4455;\n",
              "      fill: #D2E3FC;\n",
              "    }\n",
              "\n",
              "    [theme=dark] .colab-df-convert:hover {\n",
              "      background-color: #434B5C;\n",
              "      box-shadow: 0px 1px 3px 1px rgba(0, 0, 0, 0.15);\n",
              "      filter: drop-shadow(0px 1px 2px rgba(0, 0, 0, 0.3));\n",
              "      fill: #FFFFFF;\n",
              "    }\n",
              "  </style>\n",
              "\n",
              "      <script>\n",
              "        const buttonEl =\n",
              "          document.querySelector('#df-cf05c3be-fb56-4354-9b73-300dadf30d1e button.colab-df-convert');\n",
              "        buttonEl.style.display =\n",
              "          google.colab.kernel.accessAllowed ? 'block' : 'none';\n",
              "\n",
              "        async function convertToInteractive(key) {\n",
              "          const element = document.querySelector('#df-cf05c3be-fb56-4354-9b73-300dadf30d1e');\n",
              "          const dataTable =\n",
              "            await google.colab.kernel.invokeFunction('convertToInteractive',\n",
              "                                                     [key], {});\n",
              "          if (!dataTable) return;\n",
              "\n",
              "          const docLinkHtml = 'Like what you see? Visit the ' +\n",
              "            '<a target=\"_blank\" href=https://colab.research.google.com/notebooks/data_table.ipynb>data table notebook</a>'\n",
              "            + ' to learn more about interactive tables.';\n",
              "          element.innerHTML = '';\n",
              "          dataTable['output_type'] = 'display_data';\n",
              "          await google.colab.output.renderOutput(dataTable, element);\n",
              "          const docLink = document.createElement('div');\n",
              "          docLink.innerHTML = docLinkHtml;\n",
              "          element.appendChild(docLink);\n",
              "        }\n",
              "      </script>\n",
              "    </div>\n",
              "  </div>\n",
              "  "
            ]
          },
          "metadata": {},
          "execution_count": 63
        }
      ]
    },
    {
      "cell_type": "code",
      "source": [
        "#shape of the dataframe\n",
        "data.shape"
      ],
      "metadata": {
        "colab": {
          "base_uri": "https://localhost:8080/"
        },
        "id": "RD5xYFZeesRU",
        "outputId": "2feb8bab-a7f4-4c01-ae15-2c47731616fa"
      },
      "execution_count": 64,
      "outputs": [
        {
          "output_type": "execute_result",
          "data": {
            "text/plain": [
              "(3236623, 11)"
            ]
          },
          "metadata": {},
          "execution_count": 64
        }
      ]
    },
    {
      "cell_type": "code",
      "source": [
        "#reducing dimensionality of the data\n",
        "#dropping columns with redundant, futile information\n",
        "data = data.drop(columns=['oldbalanceOrg', 'oldbalanceDest', 'isFlaggedFraud', 'nameOrig', 'nameDest'])"
      ],
      "metadata": {
        "id": "Ta0fE9qQG6xc"
      },
      "execution_count": 65,
      "outputs": []
    },
    {
      "cell_type": "code",
      "source": [
        "#declaring the target variable\n",
        "Y = data['isFraud']\n",
        "#checking the shape of 'Y'\n",
        "Y.shape\n",
        "#selecting 40% of 'Y' for the model\n",
        "Y = Y[0:1294649]\n",
        "#replacing the missing values with '1'\n",
        "Y.fillna(value=1, inplace=True)\n",
        "#printing 'Y'\n",
        "print(Y)"
      ],
      "metadata": {
        "colab": {
          "base_uri": "https://localhost:8080/"
        },
        "id": "3pjVbE4biygU",
        "outputId": "56febf0c-6713-4532-f72a-7f1d51ce8362"
      },
      "execution_count": 68,
      "outputs": [
        {
          "output_type": "stream",
          "name": "stdout",
          "text": [
            "0          0.0\n",
            "1          0.0\n",
            "2          1.0\n",
            "3          1.0\n",
            "4          0.0\n",
            "          ... \n",
            "1294644    0.0\n",
            "1294645    0.0\n",
            "1294646    0.0\n",
            "1294647    0.0\n",
            "1294648    0.0\n",
            "Name: isFraud, Length: 1294649, dtype: float64\n"
          ]
        }
      ]
    },
    {
      "cell_type": "code",
      "source": [
        "#declaring the predictor variable/ Feature matrix, dropping the 'Y' column\n",
        "X = data.drop(columns=['isFraud'])\n",
        "#checking the shape of 'X'\n",
        "X.shape\n",
        "#selecting 40% of 'X' for the model\n",
        "X = X[0:1294649]\n",
        "#printing 'X'\n",
        "print(X)"
      ],
      "metadata": {
        "colab": {
          "base_uri": "https://localhost:8080/"
        },
        "id": "9FifWu5Di9jJ",
        "outputId": "69775192-dcc8-4ebe-caba-aa4d923c11b3"
      },
      "execution_count": 70,
      "outputs": [
        {
          "output_type": "stream",
          "name": "stdout",
          "text": [
            "         step      type     amount  newbalanceOrig  newbalanceDest\n",
            "0           1   PAYMENT    9839.64       160296.36            0.00\n",
            "1           1   PAYMENT    1864.28        19384.72            0.00\n",
            "2           1  TRANSFER     181.00            0.00            0.00\n",
            "3           1  CASH_OUT     181.00            0.00            0.00\n",
            "4           1   PAYMENT   11668.14        29885.86            0.00\n",
            "...       ...       ...        ...             ...             ...\n",
            "1294644   136   PAYMENT    8520.90        32368.86            0.00\n",
            "1294645   136   PAYMENT   33016.65            0.00            0.00\n",
            "1294646   136  CASH_OUT  181611.96            0.00      1478579.75\n",
            "1294647   136  CASH_OUT   38481.09            0.00        38481.09\n",
            "1294648   136  CASH_OUT  241181.58            0.00       241181.58\n",
            "\n",
            "[1294649 rows x 5 columns]\n"
          ]
        }
      ]
    },
    {
      "cell_type": "code",
      "source": [
        "#converting categorical variables in X['type'] to numerical\n",
        "for i in X['type']:\n",
        "  if(i==\"CASH-IN\"):\n",
        "    X['type']=1\n",
        "  if(i==\"CASH-OUT\"):\n",
        "    X['type']=2\n",
        "  if(i==\"DEBIT\"):\n",
        "    X['type']=3\n",
        "  if(i==\"PAYMENT\"):\n",
        "    X['type']=4\n",
        "  if(i==\"TRANSFER\"):\n",
        "    X['type']=5"
      ],
      "metadata": {
        "id": "9utajgW5Td7Q"
      },
      "execution_count": 72,
      "outputs": []
    },
    {
      "cell_type": "code",
      "source": [
        "print(X)"
      ],
      "metadata": {
        "colab": {
          "base_uri": "https://localhost:8080/"
        },
        "id": "0BakBe4GX-xj",
        "outputId": "99c3179e-fedc-4629-ee9c-663d2b4a959f"
      },
      "execution_count": 73,
      "outputs": [
        {
          "output_type": "stream",
          "name": "stdout",
          "text": [
            "         step  type     amount  newbalanceOrig  newbalanceDest\n",
            "0           1     4    9839.64       160296.36            0.00\n",
            "1           1     4    1864.28        19384.72            0.00\n",
            "2           1     4     181.00            0.00            0.00\n",
            "3           1     4     181.00            0.00            0.00\n",
            "4           1     4   11668.14        29885.86            0.00\n",
            "...       ...   ...        ...             ...             ...\n",
            "1294644   136     4    8520.90        32368.86            0.00\n",
            "1294645   136     4   33016.65            0.00            0.00\n",
            "1294646   136     4  181611.96            0.00      1478579.75\n",
            "1294647   136     4   38481.09            0.00        38481.09\n",
            "1294648   136     4  241181.58            0.00       241181.58\n",
            "\n",
            "[1294649 rows x 5 columns]\n"
          ]
        }
      ]
    },
    {
      "cell_type": "code",
      "source": [
        "#importing Simple Imputer from Sklearn\n",
        "from sklearn.impute import SimpleImputer \n",
        "#creating the imputer class with appropriate parameters to fill in the missing values\n",
        "imputer = SimpleImputer(missing_values=np.NaN, strategy='mean')\n",
        "#using the fit_transform method on 'X' to replace the missing values\n",
        "X = imputer.fit_transform(X)"
      ],
      "metadata": {
        "id": "BzsF3bbPEBL0"
      },
      "execution_count": 74,
      "outputs": []
    },
    {
      "cell_type": "code",
      "source": [
        "#importing Standard Scaler from Sklearn\n",
        "from sklearn.preprocessing import StandardScaler\n",
        "#creating the standardscaler class\n",
        "scaler = StandardScaler()\n",
        "#using the fit_transform methos on 'X' to scale the feature values\n",
        "X_scaled = scaler.fit_transform(X)\n",
        "#printing 'X_scaled'\n",
        "print(X_scaled)\n",
        "#checking the shape of 'X_scaled'\n",
        "X_scaled.shape"
      ],
      "metadata": {
        "colab": {
          "base_uri": "https://localhost:8080/"
        },
        "id": "7OMGmrd_TI1J",
        "outputId": "75583cf9-e64b-4a37-a1bc-d9fa0d1f09a8"
      },
      "execution_count": 75,
      "outputs": [
        {
          "output_type": "stream",
          "name": "stdout",
          "text": [
            "[[-1.06095672  0.         -0.56112125 -0.244498   -0.46302332]\n",
            " [-1.06095672  0.         -0.59032083 -0.29134433 -0.46302332]\n",
            " [-1.06095672  0.         -0.59648369 -0.29778881 -0.46302332]\n",
            " ...\n",
            " [ 2.08429509  0.          0.06777573 -0.29778881  0.14902625]\n",
            " [ 2.08429509  0.         -0.45625848 -0.29778881 -0.4470943 ]\n",
            " [ 2.08429509  0.          0.28587346 -0.29778881 -0.3631876 ]]\n"
          ]
        },
        {
          "output_type": "execute_result",
          "data": {
            "text/plain": [
              "(1294649, 5)"
            ]
          },
          "metadata": {},
          "execution_count": 75
        }
      ]
    },
    {
      "cell_type": "code",
      "source": [
        "#importing train_test_split from sklearn\n",
        "from sklearn.model_selection import train_test_split\n",
        "#splitting the data into train & test sets, with the test set having 20% of the data\n",
        "X_train, X_test, Y_train, Y_test = train_test_split(X_scaled, Y, test_size=0.2, random_state=123)"
      ],
      "metadata": {
        "id": "m88XH7lWZkx8"
      },
      "execution_count": 76,
      "outputs": []
    },
    {
      "cell_type": "code",
      "source": [
        "X_train.shape"
      ],
      "metadata": {
        "colab": {
          "base_uri": "https://localhost:8080/"
        },
        "id": "HvqA6jMeR1op",
        "outputId": "46846eac-b893-4b44-a8ba-e198285ac2c9"
      },
      "execution_count": 78,
      "outputs": [
        {
          "output_type": "execute_result",
          "data": {
            "text/plain": [
              "(1035719, 5)"
            ]
          },
          "metadata": {},
          "execution_count": 78
        }
      ]
    },
    {
      "cell_type": "code",
      "source": [
        "X_test.shape"
      ],
      "metadata": {
        "colab": {
          "base_uri": "https://localhost:8080/"
        },
        "id": "kzDzwZuNR5Wm",
        "outputId": "bda339c6-abdb-435b-d803-435a86082a23"
      },
      "execution_count": 79,
      "outputs": [
        {
          "output_type": "execute_result",
          "data": {
            "text/plain": [
              "(258930, 5)"
            ]
          },
          "metadata": {},
          "execution_count": 79
        }
      ]
    },
    {
      "cell_type": "code",
      "source": [
        "Y_train.shape"
      ],
      "metadata": {
        "colab": {
          "base_uri": "https://localhost:8080/"
        },
        "id": "3L327SmoR8P4",
        "outputId": "1252292b-c4e7-4274-a190-fc7575ef6c1a"
      },
      "execution_count": 80,
      "outputs": [
        {
          "output_type": "execute_result",
          "data": {
            "text/plain": [
              "(1035719,)"
            ]
          },
          "metadata": {},
          "execution_count": 80
        }
      ]
    },
    {
      "cell_type": "code",
      "source": [
        "Y_test.shape"
      ],
      "metadata": {
        "colab": {
          "base_uri": "https://localhost:8080/"
        },
        "id": "u0YRPBKTR_a0",
        "outputId": "cd2f2863-141f-49c3-97bf-e8e28d8adc79"
      },
      "execution_count": 81,
      "outputs": [
        {
          "output_type": "execute_result",
          "data": {
            "text/plain": [
              "(258930,)"
            ]
          },
          "metadata": {},
          "execution_count": 81
        }
      ]
    },
    {
      "cell_type": "code",
      "source": [
        "#importing cross_val_score, RepeatedStratifiedKFold from sklearn\n",
        "from sklearn.model_selection import cross_val_score\n",
        "from sklearn.model_selection import RepeatedStratifiedKFold\n",
        "#importing the linear model Logistic Regression from sklearn\n",
        "from sklearn.linear_model import LogisticRegression"
      ],
      "metadata": {
        "id": "ne8i5h-_busq"
      },
      "execution_count": 82,
      "outputs": []
    },
    {
      "cell_type": "code",
      "source": [
        "#defining the model with the solver='lbfgs'\n",
        "model = LogisticRegression(solver='lbfgs')\n",
        "#fitting the model on the train set\n",
        "model.fit(X_train, Y_train)\n",
        "#prediction of the model on the test set\n",
        "Y_pred = model.predict(X_test)\n",
        "#calcuting the model's accuracy\n",
        "print(model.score(X_test, Y_test))"
      ],
      "metadata": {
        "colab": {
          "base_uri": "https://localhost:8080/"
        },
        "id": "mFVOxc-Hbw75",
        "outputId": "ea6e6bb0-3ef8-4916-f63a-496d448e1eb6"
      },
      "execution_count": 89,
      "outputs": [
        {
          "output_type": "stream",
          "name": "stdout",
          "text": [
            "0.9988606959409879\n"
          ]
        }
      ]
    },
    {
      "cell_type": "code",
      "source": [
        "#importing confusion matrix from sklearn\n",
        "from sklearn.metrics import  confusion_matrix\n",
        "cm = confusion_matrix(Y_test, Y_pred)\n",
        "#printing the confusion matrix\n",
        "print(cm)"
      ],
      "metadata": {
        "colab": {
          "base_uri": "https://localhost:8080/"
        },
        "id": "cGwWcGp0e_QN",
        "outputId": "d12051eb-63fc-4dd6-ab53-0b0b992524b1"
      },
      "execution_count": 84,
      "outputs": [
        {
          "output_type": "stream",
          "name": "stdout",
          "text": [
            "[[258598     12]\n",
            " [   283     37]]\n"
          ]
        }
      ]
    },
    {
      "cell_type": "code",
      "source": [
        "#importing the classification report from sklearn\n",
        "#accuracy is the not ideal metric for measuring the model's performance over a dataset with a class imbalance like this one\n",
        "from sklearn.metrics import classification_report\n",
        "#declaring the target names\n",
        "target_names = ['Not_Fraud', 'Fraud']\n",
        "#printing the classification report\n",
        "print(classification_report(Y_test, Y_pred, target_names=target_names))"
      ],
      "metadata": {
        "colab": {
          "base_uri": "https://localhost:8080/"
        },
        "id": "-zMrrkJEfvpG",
        "outputId": "3529bb05-0812-4828-bd49-34e5d4c4b868"
      },
      "execution_count": 85,
      "outputs": [
        {
          "output_type": "stream",
          "name": "stdout",
          "text": [
            "              precision    recall  f1-score   support\n",
            "\n",
            "   Not_Fraud       1.00      1.00      1.00    258610\n",
            "       Fraud       0.76      0.12      0.20       320\n",
            "\n",
            "    accuracy                           1.00    258930\n",
            "   macro avg       0.88      0.56      0.60    258930\n",
            "weighted avg       1.00      1.00      1.00    258930\n",
            "\n"
          ]
        }
      ]
    },
    {
      "cell_type": "code",
      "source": [
        "#performing K-fold cross validaiton\n",
        "import numpy as np\n",
        "cv = RepeatedStratifiedKFold(n_splits=10, n_repeats=3, random_state=1)\n",
        "scores = cross_val_score(model, X_test, Y_test, scoring='roc_auc', cv=cv, n_jobs=-1)\n",
        "#printing mean, min, max values of the cross_val_score\n",
        "print(np.mean(scores))\n",
        "print(min(scores))\n",
        "print(max(scores))"
      ],
      "metadata": {
        "colab": {
          "base_uri": "https://localhost:8080/"
        },
        "id": "QrzePqaqemQ1",
        "outputId": "92c8c3c7-bd11-41cb-a8c6-dd5153bc2d7c"
      },
      "execution_count": 86,
      "outputs": [
        {
          "output_type": "stream",
          "name": "stdout",
          "text": [
            "0.8417581010015079\n",
            "0.7521847569699547\n",
            "0.9150083620122965\n"
          ]
        }
      ]
    },
    {
      "cell_type": "code",
      "source": [
        "#plotting the ROC_AUC curve for the model\n",
        "import sklearn.metrics as metrics\n",
        "probs = model.predict_proba(X_test)\n",
        "preds = probs[:,1]\n",
        "#false_positive_rate, true_positive_rate\n",
        "fpr, tpr, threshold = metrics.roc_curve(Y_test, preds)\n",
        "roc_auc = metrics.auc(fpr, tpr)\n",
        "import matplotlib.pyplot as plt\n",
        "plt.title('Receiver Operating Characteristic')\n",
        "plt.plot(fpr, tpr, 'b', label = 'AUC = %0.2f' % roc_auc)\n",
        "plt.legend(loc = 'lower right')\n",
        "plt.plot([0, 1], [0, 1],'r--')\n",
        "plt.xlim([0, 1])\n",
        "plt.ylim([0, 1])\n",
        "plt.ylabel('True Positive Rate')\n",
        "plt.xlabel('False Positive Rate')\n",
        "plt.show()"
      ],
      "metadata": {
        "colab": {
          "base_uri": "https://localhost:8080/",
          "height": 295
        },
        "id": "mZ50TTRk0p9I",
        "outputId": "358b48dc-2394-4480-b3ad-6cdd316347d9"
      },
      "execution_count": 87,
      "outputs": [
        {
          "output_type": "display_data",
          "data": {
            "text/plain": [
              "<Figure size 432x288 with 1 Axes>"
            ],
            "image/png": "[encoded data removed]"
          },
          "metadata": {
            "needs_background": "light"
          }
        }
      ]
    },
    {
      "cell_type": "code",
      "source": [
        "#"
      ],
      "metadata": {
        "id": "lXDHsDe4SV3g"
      },
      "execution_count": null,
      "outputs": []
    }
  ]
}